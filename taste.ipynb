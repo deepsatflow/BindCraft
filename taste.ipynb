{
 "cells": [
  {
   "cell_type": "code",
   "execution_count": 3,
   "metadata": {},
   "outputs": [
    {
     "name": "stdout",
     "output_type": "stream",
     "text": [
      "/root/bindcraft/settings_advanced/custom.json\n"
     ]
    }
   ],
   "source": [
    "# design_protocol_path = None\n",
    "design_protocol_path = \"custom.json\"\n",
    "\n",
    "if design_protocol_path is not None: \n",
    "        advanced_settings_path = (\"/root/bindcraft/settings_advanced/\" + design_protocol_path)\n",
    "else: \n",
    "    advanced_settings_path = (\n",
    "        \"/root/bindcraft/settings_advanced/\"\n",
    "        + \"default.json\"\n",
    "    )\n",
    "\n",
    "print(advanced_settings_path)"
   ]
  },
  {
   "cell_type": "code",
   "execution_count": 17,
   "metadata": {},
   "outputs": [],
   "source": [
    "import json \n",
    "import boto3"
   ]
  },
  {
   "cell_type": "code",
   "execution_count": 18,
   "metadata": {},
   "outputs": [],
   "source": [
    "config_data = json.load(open('config.json'))\n",
    "aws_access_key_id = config_data['aws_access_key_id']\n",
    "aws_secret_access_key = config_data['aws_secret_access_key']"
   ]
  },
  {
   "cell_type": "code",
   "execution_count": 19,
   "metadata": {},
   "outputs": [
    {
     "data": {
      "text/plain": [
       "dict_keys(['aws_access_key_id', 'aws_secret_access_key'])"
      ]
     },
     "execution_count": 19,
     "metadata": {},
     "output_type": "execute_result"
    }
   ],
   "source": [
    "config_data.keys()"
   ]
  },
  {
   "cell_type": "code",
   "execution_count": 20,
   "metadata": {},
   "outputs": [],
   "source": [
    "# s3 bucket detials \n",
    "bucket_name = \"bindcraft\"\n",
    "s3_key = \"pipeline.png\""
   ]
  },
  {
   "cell_type": "code",
   "execution_count": 21,
   "metadata": {},
   "outputs": [],
   "source": [
    "local_file_path = \"pipeline.png\"\n"
   ]
  },
  {
   "cell_type": "code",
   "execution_count": 22,
   "metadata": {},
   "outputs": [],
   "source": [
    "# create a s3 client\n",
    "s3_client = boto3.client('s3', aws_access_key_id=aws_access_key_id, aws_secret_access_key=aws_secret_access_key)"
   ]
  },
  {
   "cell_type": "code",
   "execution_count": 23,
   "metadata": {},
   "outputs": [
    {
     "name": "stdout",
     "output_type": "stream",
     "text": [
      "file upload successful: bindcraft\n"
     ]
    }
   ],
   "source": [
    "# upload the file to s3\n",
    "try: \n",
    "    response = s3_client.upload_file(local_file_path, bucket_name, s3_key)\n",
    "    print(f\"file upload successful: {bucket_name}\")\n",
    "except Exception as e:\n",
    "    print(f\"file upload failed: {e}\")\n"
   ]
  },
  {
   "cell_type": "markdown",
   "metadata": {},
   "source": []
  }
 ],
 "metadata": {
  "kernelspec": {
   "display_name": "modal",
   "language": "python",
   "name": "python3"
  },
  "language_info": {
   "codemirror_mode": {
    "name": "ipython",
    "version": 3
   },
   "file_extension": ".py",
   "mimetype": "text/x-python",
   "name": "python",
   "nbconvert_exporter": "python",
   "pygments_lexer": "ipython3",
   "version": "3.11.9"
  }
 },
 "nbformat": 4,
 "nbformat_minor": 2
}
