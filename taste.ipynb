{
 "cells": [
  {
   "cell_type": "code",
   "execution_count": 3,
   "metadata": {},
   "outputs": [
    {
     "name": "stdout",
     "output_type": "stream",
     "text": [
      "/root/bindcraft/settings_advanced/custom.json\n"
     ]
    }
   ],
   "source": [
    "# design_protocol_path = None\n",
    "design_protocol_path = \"custom.json\"\n",
    "\n",
    "if design_protocol_path is not None: \n",
    "        advanced_settings_path = (\"/root/bindcraft/settings_advanced/\" + design_protocol_path)\n",
    "else: \n",
    "    advanced_settings_path = (\n",
    "        \"/root/bindcraft/settings_advanced/\"\n",
    "        + \"default.json\"\n",
    "    )\n",
    "\n",
    "print(advanced_settings_path)"
   ]
  },
  {
   "cell_type": "code",
   "execution_count": 17,
   "metadata": {},
   "outputs": [],
   "source": [
    "import json \n",
    "import boto3"
   ]
  },
  {
   "cell_type": "code",
   "execution_count": 18,
   "metadata": {},
   "outputs": [],
   "source": [
    "config_data = json.load(open('config.json'))\n",
    "aws_access_key_id = config_data['aws_access_key_id']\n",
    "aws_secret_access_key = config_data['aws_secret_access_key']"
   ]
  },
  {
   "cell_type": "code",
   "execution_count": 19,
   "metadata": {},
   "outputs": [
    {
     "data": {
      "text/plain": [
       "dict_keys(['aws_access_key_id', 'aws_secret_access_key'])"
      ]
     },
     "execution_count": 19,
     "metadata": {},
     "output_type": "execute_result"
    }
   ],
   "source": [
    "config_data.keys()"
   ]
  },
  {
   "cell_type": "code",
   "execution_count": 20,
   "metadata": {},
   "outputs": [],
   "source": [
    "# s3 bucket detials \n",
    "bucket_name = \"bindcraft\"\n",
    "s3_key = \"pipeline.png\""
   ]
  },
  {
   "cell_type": "code",
   "execution_count": 21,
   "metadata": {},
   "outputs": [],
   "source": [
    "local_file_path = \"pipeline.png\"\n"
   ]
  },
  {
   "cell_type": "code",
   "execution_count": 22,
   "metadata": {},
   "outputs": [],
   "source": [
    "# create a s3 client\n",
    "s3_client = boto3.client('s3', aws_access_key_id=aws_access_key_id, aws_secret_access_key=aws_secret_access_key)"
   ]
  },
  {
   "cell_type": "code",
   "execution_count": 23,
   "metadata": {},
   "outputs": [
    {
     "name": "stdout",
     "output_type": "stream",
     "text": [
      "file upload successful: bindcraft\n"
     ]
    }
   ],
   "source": [
    "# upload the file to s3\n",
    "try: \n",
    "    response = s3_client.upload_file(local_file_path, bucket_name, s3_key)\n",
    "    print(f\"file upload successful: {bucket_name}\")\n",
    "except Exception as e:\n",
    "    print(f\"file upload failed: {e}\")\n"
   ]
  },
  {
   "cell_type": "markdown",
   "metadata": {},
   "source": []
  },
  {
   "cell_type": "code",
   "execution_count": 1,
   "metadata": {},
   "outputs": [],
   "source": [
    "from Bio.PDB import PDBParser\n",
    "import numpy as np"
   ]
  },
  {
   "cell_type": "code",
   "execution_count": 2,
   "metadata": {},
   "outputs": [],
   "source": [
    "def parse_pdb_to_target_protein(pdb_file):\n",
    "    parser = PDBParser(QUIET=True)\n",
    "    structure = parser.get_structure('target', pdb_file)\n",
    "    \n",
    "    # Initialize list to hold CA atom positions\n",
    "    ca_positions = []\n",
    "\n",
    "    for model in structure:\n",
    "        for chain in model:\n",
    "            for residue in chain:\n",
    "                if 'CA' in residue:\n",
    "                    ca = residue['CA']\n",
    "                    ca_positions.append(ca.get_coord())\n",
    "    \n",
    "    # Convert to numpy array\n",
    "    ca_positions = np.array(ca_positions)\n",
    "    \n",
    "    # Create target_protein dictionary\n",
    "    target_protein = {\n",
    "        \"final_atom_positions\": ca_positions\n",
    "    }\n",
    "    \n",
    "    return target_protein"
   ]
  },
  {
   "cell_type": "code",
   "execution_count": 3,
   "metadata": {},
   "outputs": [],
   "source": [
    "# Example usage\n",
    "pdb_file = 'target.pdb'\n",
    "target_protein = parse_pdb_to_target_protein(pdb_file)"
   ]
  },
  {
   "cell_type": "code",
   "execution_count": 4,
   "metadata": {},
   "outputs": [
    {
     "data": {
      "text/plain": [
       "{'final_atom_positions': array([[-15.953, -36.5  , -12.   ],\n",
       "        [-16.078, -34.625,  -8.516],\n",
       "        [-16.375, -30.703,  -9.141],\n",
       "        ...,\n",
       "        [ 11.414,  43.406,  67.375],\n",
       "        [ 10.969,  44.625,  71.062],\n",
       "        [ 14.062,  44.688,  73.188]], dtype=float32)}"
      ]
     },
     "execution_count": 4,
     "metadata": {},
     "output_type": "execute_result"
    }
   ],
   "source": [
    "target_protein"
   ]
  },
  {
   "cell_type": "code",
   "execution_count": null,
   "metadata": {},
   "outputs": [],
   "source": []
  }
 ],
 "metadata": {
  "kernelspec": {
   "display_name": "modal",
   "language": "python",
   "name": "python3"
  },
  "language_info": {
   "codemirror_mode": {
    "name": "ipython",
    "version": 3
   },
   "file_extension": ".py",
   "mimetype": "text/x-python",
   "name": "python",
   "nbconvert_exporter": "python",
   "pygments_lexer": "ipython3",
   "version": "3.11.9"
  }
 },
 "nbformat": 4,
 "nbformat_minor": 2
}
