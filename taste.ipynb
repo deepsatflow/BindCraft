{
 "cells": [
  {
   "cell_type": "code",
   "execution_count": 1,
   "metadata": {},
   "outputs": [
    {
     "name": "stdout",
     "output_type": "stream",
     "text": [
      "/root/bindcraft/settings_advanced/custom.json\n"
     ]
    }
   ],
   "source": [
    "# design_protocol_path = None\n",
    "design_protocol_path = \"custom.json\"\n",
    "\n",
    "if design_protocol_path is not None: \n",
    "        advanced_settings_path = (\"/root/bindcraft/settings_advanced/\" + design_protocol_path)\n",
    "else: \n",
    "    advanced_settings_path = (\n",
    "        \"/root/bindcraft/settings_advanced/\"\n",
    "        + \"default.json\"\n",
    "    )\n",
    "\n",
    "print(advanced_settings_path)"
   ]
  },
  {
   "cell_type": "code",
   "execution_count": 2,
   "metadata": {},
   "outputs": [],
   "source": [
    "import json \n",
    "import boto3"
   ]
  },
  {
   "cell_type": "code",
   "execution_count": 3,
   "metadata": {},
   "outputs": [],
   "source": [
    "config_data = json.load(open('config.json'))\n",
    "aws_access_key_id = config_data['aws_access_key_id']\n",
    "aws_secret_access_key = config_data['aws_secret_access_key']"
   ]
  },
  {
   "cell_type": "code",
   "execution_count": 4,
   "metadata": {},
   "outputs": [
    {
     "data": {
      "text/plain": [
       "dict_keys(['aws_access_key_id', 'aws_secret_access_key'])"
      ]
     },
     "execution_count": 4,
     "metadata": {},
     "output_type": "execute_result"
    }
   ],
   "source": [
    "config_data.keys()"
   ]
  },
  {
   "cell_type": "code",
   "execution_count": 20,
   "metadata": {},
   "outputs": [],
   "source": [
    "# s3 bucket detials \n",
    "bucket_name = \"bindcraft\"\n",
    "s3_key = \"pipeline.png\""
   ]
  },
  {
   "cell_type": "code",
   "execution_count": 21,
   "metadata": {},
   "outputs": [],
   "source": [
    "local_file_path = \"pipeline.png\"\n"
   ]
  },
  {
   "cell_type": "code",
   "execution_count": 5,
   "metadata": {},
   "outputs": [],
   "source": [
    "# create a s3 client\n",
    "s3_client = boto3.client('s3', aws_access_key_id=aws_access_key_id, aws_secret_access_key=aws_secret_access_key)"
   ]
  },
  {
   "cell_type": "code",
   "execution_count": 23,
   "metadata": {},
   "outputs": [
    {
     "name": "stdout",
     "output_type": "stream",
     "text": [
      "file upload successful: bindcraft\n"
     ]
    }
   ],
   "source": [
    "# upload the file to s3\n",
    "try: \n",
    "    response = s3_client.upload_file(local_file_path, bucket_name, s3_key)\n",
    "    print(f\"file upload successful: {bucket_name}\")\n",
    "except Exception as e:\n",
    "    print(f\"file upload failed: {e}\")\n"
   ]
  },
  {
   "cell_type": "code",
   "execution_count": 16,
   "metadata": {},
   "outputs": [
    {
     "name": "stdout",
     "output_type": "stream",
     "text": [
      "Folders in S3 bucket:\n",
      "2412111959\n",
      "2412112016\n",
      "2412120836\n",
      "2412120937\n",
      "2412121056\n",
      "2412121103\n",
      "2412121113\n",
      "2412121450\n",
      "2412142141\n",
      "2412150205\n",
      "2412151122\n",
      "2412151123\n",
      "2412151601\n",
      "2412151733\n",
      "2412241939\n",
      "2412242139\n",
      "2412242155\n",
      "2412250028\n",
      "2412250101\n",
      "2412250846\n",
      "pipeline.png\n"
     ]
    }
   ],
   "source": [
    "## list all folder in a s3 bucket \n",
    "import boto3\n",
    "\n",
    "def list_s3_folders(bucket_name):\n",
    "    s3_client = boto3.client('s3')\n",
    "    \n",
    "    # List objects in the bucket\n",
    "    paginator = s3_client.get_paginator('list_objects_v2')\n",
    "    pages = paginator.paginate(Bucket=bucket_name)\n",
    "    \n",
    "    folders = set()\n",
    "    \n",
    "    for page in pages:\n",
    "        if 'Contents' in page:\n",
    "            for obj in page['Contents']:\n",
    "                key = obj['Key']\n",
    "                # Extract the folder name\n",
    "                folder = key.split('/')[0]\n",
    "                folders.add(folder)\n",
    "    \n",
    "    return sorted(folders)\n",
    "\n",
    "# Example usage\n",
    "bucket_name = 'bindcraft'\n",
    "folders = list_s3_folders(bucket_name)\n",
    "print(\"Folders in S3 bucket:\")\n",
    "for folder in folders:\n",
    "    print(folder)"
   ]
  },
  {
   "cell_type": "code",
   "execution_count": 17,
   "metadata": {},
   "outputs": [
    {
     "name": "stdout",
     "output_type": "stream",
     "text": [
      "Downloaded 2412250846/Trajectory/Clashing/6aru_final_chain_A_domain_3_l50_s460048.pdb to ./out/bindcraft/2412250846/Trajectory/Clashing/6aru_final_chain_A_domain_3_l50_s460048.pdb\n",
      "Downloaded 2412250846/Trajectory/Clashing/6aru_final_chain_A_domain_3_l50_s4779.pdb to ./out/bindcraft/2412250846/Trajectory/Clashing/6aru_final_chain_A_domain_3_l50_s4779.pdb\n",
      "Downloaded 2412250846/Trajectory/Clashing/6aru_final_chain_A_domain_3_l50_s533457.pdb to ./out/bindcraft/2412250846/Trajectory/Clashing/6aru_final_chain_A_domain_3_l50_s533457.pdb\n",
      "Downloaded 2412250846/Trajectory/Clashing/6aru_final_chain_A_domain_3_l50_s573464.pdb to ./out/bindcraft/2412250846/Trajectory/Clashing/6aru_final_chain_A_domain_3_l50_s573464.pdb\n",
      "Downloaded 2412250846/Trajectory/Clashing/6aru_final_chain_A_domain_3_l50_s724583.pdb to ./out/bindcraft/2412250846/Trajectory/Clashing/6aru_final_chain_A_domain_3_l50_s724583.pdb\n",
      "Downloaded 2412250846/Trajectory/Clashing/6aru_final_chain_A_domain_3_l50_s893314.pdb to ./out/bindcraft/2412250846/Trajectory/Clashing/6aru_final_chain_A_domain_3_l50_s893314.pdb\n",
      "Downloaded 2412250846/Trajectory/Clashing/6aru_final_chain_A_domain_3_l50_s952853.pdb to ./out/bindcraft/2412250846/Trajectory/Clashing/6aru_final_chain_A_domain_3_l50_s952853.pdb\n",
      "Downloaded 2412250846/Trajectory/LowConfidence/6aru_final_chain_A_domain_3_l50_s173449.pdb to ./out/bindcraft/2412250846/Trajectory/LowConfidence/6aru_final_chain_A_domain_3_l50_s173449.pdb\n",
      "Downloaded 2412250846/Trajectory/LowConfidence/6aru_final_chain_A_domain_3_l50_s238787.pdb to ./out/bindcraft/2412250846/Trajectory/LowConfidence/6aru_final_chain_A_domain_3_l50_s238787.pdb\n",
      "Downloaded 2412250846/Trajectory/LowConfidence/6aru_final_chain_A_domain_3_l50_s392701.pdb to ./out/bindcraft/2412250846/Trajectory/LowConfidence/6aru_final_chain_A_domain_3_l50_s392701.pdb\n",
      "Downloaded 2412250846/Trajectory/LowConfidence/6aru_final_chain_A_domain_3_l50_s484562.pdb to ./out/bindcraft/2412250846/Trajectory/LowConfidence/6aru_final_chain_A_domain_3_l50_s484562.pdb\n",
      "Downloaded 2412250846/Trajectory/LowConfidence/6aru_final_chain_A_domain_3_l50_s562369.pdb to ./out/bindcraft/2412250846/Trajectory/LowConfidence/6aru_final_chain_A_domain_3_l50_s562369.pdb\n",
      "Downloaded 2412250846/Trajectory/LowConfidence/6aru_final_chain_A_domain_3_l50_s611221.pdb to ./out/bindcraft/2412250846/Trajectory/LowConfidence/6aru_final_chain_A_domain_3_l50_s611221.pdb\n",
      "Downloaded 2412250846/Trajectory/LowConfidence/6aru_final_chain_A_domain_3_l50_s708377.pdb to ./out/bindcraft/2412250846/Trajectory/LowConfidence/6aru_final_chain_A_domain_3_l50_s708377.pdb\n",
      "Downloaded 2412250846/Trajectory/LowConfidence/6aru_final_chain_A_domain_3_l50_s785094.pdb to ./out/bindcraft/2412250846/Trajectory/LowConfidence/6aru_final_chain_A_domain_3_l50_s785094.pdb\n",
      "Downloaded 2412250846/Trajectory/LowConfidence/6aru_final_chain_A_domain_3_l50_s986516.pdb to ./out/bindcraft/2412250846/Trajectory/LowConfidence/6aru_final_chain_A_domain_3_l50_s986516.pdb\n",
      "Downloaded 2412250846/Trajectory/Plots/6aru_final_chain_A_domain_3_l50_s173449_con.png to ./out/bindcraft/2412250846/Trajectory/Plots/6aru_final_chain_A_domain_3_l50_s173449_con.png\n",
      "Downloaded 2412250846/Trajectory/Plots/6aru_final_chain_A_domain_3_l50_s173449_i_con.png to ./out/bindcraft/2412250846/Trajectory/Plots/6aru_final_chain_A_domain_3_l50_s173449_i_con.png\n",
      "Downloaded 2412250846/Trajectory/Plots/6aru_final_chain_A_domain_3_l50_s173449_i_pae.png to ./out/bindcraft/2412250846/Trajectory/Plots/6aru_final_chain_A_domain_3_l50_s173449_i_pae.png\n",
      "Downloaded 2412250846/Trajectory/Plots/6aru_final_chain_A_domain_3_l50_s173449_i_ptm.png to ./out/bindcraft/2412250846/Trajectory/Plots/6aru_final_chain_A_domain_3_l50_s173449_i_ptm.png\n",
      "Downloaded 2412250846/Trajectory/Plots/6aru_final_chain_A_domain_3_l50_s173449_loss.png to ./out/bindcraft/2412250846/Trajectory/Plots/6aru_final_chain_A_domain_3_l50_s173449_loss.png\n",
      "Downloaded 2412250846/Trajectory/Plots/6aru_final_chain_A_domain_3_l50_s173449_pae.png to ./out/bindcraft/2412250846/Trajectory/Plots/6aru_final_chain_A_domain_3_l50_s173449_pae.png\n",
      "Downloaded 2412250846/Trajectory/Plots/6aru_final_chain_A_domain_3_l50_s173449_plddt.png to ./out/bindcraft/2412250846/Trajectory/Plots/6aru_final_chain_A_domain_3_l50_s173449_plddt.png\n",
      "Downloaded 2412250846/Trajectory/Plots/6aru_final_chain_A_domain_3_l50_s173449_ptm.png to ./out/bindcraft/2412250846/Trajectory/Plots/6aru_final_chain_A_domain_3_l50_s173449_ptm.png\n",
      "Downloaded 2412250846/Trajectory/Plots/6aru_final_chain_A_domain_3_l50_s238787_con.png to ./out/bindcraft/2412250846/Trajectory/Plots/6aru_final_chain_A_domain_3_l50_s238787_con.png\n",
      "Downloaded 2412250846/Trajectory/Plots/6aru_final_chain_A_domain_3_l50_s238787_i_con.png to ./out/bindcraft/2412250846/Trajectory/Plots/6aru_final_chain_A_domain_3_l50_s238787_i_con.png\n",
      "Downloaded 2412250846/Trajectory/Plots/6aru_final_chain_A_domain_3_l50_s238787_i_pae.png to ./out/bindcraft/2412250846/Trajectory/Plots/6aru_final_chain_A_domain_3_l50_s238787_i_pae.png\n",
      "Downloaded 2412250846/Trajectory/Plots/6aru_final_chain_A_domain_3_l50_s238787_i_ptm.png to ./out/bindcraft/2412250846/Trajectory/Plots/6aru_final_chain_A_domain_3_l50_s238787_i_ptm.png\n",
      "Downloaded 2412250846/Trajectory/Plots/6aru_final_chain_A_domain_3_l50_s238787_loss.png to ./out/bindcraft/2412250846/Trajectory/Plots/6aru_final_chain_A_domain_3_l50_s238787_loss.png\n",
      "Downloaded 2412250846/Trajectory/Plots/6aru_final_chain_A_domain_3_l50_s238787_pae.png to ./out/bindcraft/2412250846/Trajectory/Plots/6aru_final_chain_A_domain_3_l50_s238787_pae.png\n",
      "Downloaded 2412250846/Trajectory/Plots/6aru_final_chain_A_domain_3_l50_s238787_plddt.png to ./out/bindcraft/2412250846/Trajectory/Plots/6aru_final_chain_A_domain_3_l50_s238787_plddt.png\n",
      "Downloaded 2412250846/Trajectory/Plots/6aru_final_chain_A_domain_3_l50_s238787_ptm.png to ./out/bindcraft/2412250846/Trajectory/Plots/6aru_final_chain_A_domain_3_l50_s238787_ptm.png\n",
      "Downloaded 2412250846/Trajectory/Plots/6aru_final_chain_A_domain_3_l50_s392701_con.png to ./out/bindcraft/2412250846/Trajectory/Plots/6aru_final_chain_A_domain_3_l50_s392701_con.png\n",
      "Downloaded 2412250846/Trajectory/Plots/6aru_final_chain_A_domain_3_l50_s392701_i_con.png to ./out/bindcraft/2412250846/Trajectory/Plots/6aru_final_chain_A_domain_3_l50_s392701_i_con.png\n",
      "Downloaded 2412250846/Trajectory/Plots/6aru_final_chain_A_domain_3_l50_s392701_i_pae.png to ./out/bindcraft/2412250846/Trajectory/Plots/6aru_final_chain_A_domain_3_l50_s392701_i_pae.png\n",
      "Downloaded 2412250846/Trajectory/Plots/6aru_final_chain_A_domain_3_l50_s392701_i_ptm.png to ./out/bindcraft/2412250846/Trajectory/Plots/6aru_final_chain_A_domain_3_l50_s392701_i_ptm.png\n",
      "Downloaded 2412250846/Trajectory/Plots/6aru_final_chain_A_domain_3_l50_s392701_loss.png to ./out/bindcraft/2412250846/Trajectory/Plots/6aru_final_chain_A_domain_3_l50_s392701_loss.png\n",
      "Downloaded 2412250846/Trajectory/Plots/6aru_final_chain_A_domain_3_l50_s392701_pae.png to ./out/bindcraft/2412250846/Trajectory/Plots/6aru_final_chain_A_domain_3_l50_s392701_pae.png\n",
      "Downloaded 2412250846/Trajectory/Plots/6aru_final_chain_A_domain_3_l50_s392701_plddt.png to ./out/bindcraft/2412250846/Trajectory/Plots/6aru_final_chain_A_domain_3_l50_s392701_plddt.png\n",
      "Downloaded 2412250846/Trajectory/Plots/6aru_final_chain_A_domain_3_l50_s392701_ptm.png to ./out/bindcraft/2412250846/Trajectory/Plots/6aru_final_chain_A_domain_3_l50_s392701_ptm.png\n",
      "Downloaded 2412250846/Trajectory/Plots/6aru_final_chain_A_domain_3_l50_s460048_con.png to ./out/bindcraft/2412250846/Trajectory/Plots/6aru_final_chain_A_domain_3_l50_s460048_con.png\n",
      "Downloaded 2412250846/Trajectory/Plots/6aru_final_chain_A_domain_3_l50_s460048_i_con.png to ./out/bindcraft/2412250846/Trajectory/Plots/6aru_final_chain_A_domain_3_l50_s460048_i_con.png\n",
      "Downloaded 2412250846/Trajectory/Plots/6aru_final_chain_A_domain_3_l50_s460048_i_pae.png to ./out/bindcraft/2412250846/Trajectory/Plots/6aru_final_chain_A_domain_3_l50_s460048_i_pae.png\n",
      "Downloaded 2412250846/Trajectory/Plots/6aru_final_chain_A_domain_3_l50_s460048_i_ptm.png to ./out/bindcraft/2412250846/Trajectory/Plots/6aru_final_chain_A_domain_3_l50_s460048_i_ptm.png\n",
      "Downloaded 2412250846/Trajectory/Plots/6aru_final_chain_A_domain_3_l50_s460048_loss.png to ./out/bindcraft/2412250846/Trajectory/Plots/6aru_final_chain_A_domain_3_l50_s460048_loss.png\n",
      "Downloaded 2412250846/Trajectory/Plots/6aru_final_chain_A_domain_3_l50_s460048_pae.png to ./out/bindcraft/2412250846/Trajectory/Plots/6aru_final_chain_A_domain_3_l50_s460048_pae.png\n",
      "Downloaded 2412250846/Trajectory/Plots/6aru_final_chain_A_domain_3_l50_s460048_plddt.png to ./out/bindcraft/2412250846/Trajectory/Plots/6aru_final_chain_A_domain_3_l50_s460048_plddt.png\n",
      "Downloaded 2412250846/Trajectory/Plots/6aru_final_chain_A_domain_3_l50_s460048_ptm.png to ./out/bindcraft/2412250846/Trajectory/Plots/6aru_final_chain_A_domain_3_l50_s460048_ptm.png\n",
      "Downloaded 2412250846/Trajectory/Plots/6aru_final_chain_A_domain_3_l50_s4779_con.png to ./out/bindcraft/2412250846/Trajectory/Plots/6aru_final_chain_A_domain_3_l50_s4779_con.png\n",
      "Downloaded 2412250846/Trajectory/Plots/6aru_final_chain_A_domain_3_l50_s4779_i_con.png to ./out/bindcraft/2412250846/Trajectory/Plots/6aru_final_chain_A_domain_3_l50_s4779_i_con.png\n",
      "Downloaded 2412250846/Trajectory/Plots/6aru_final_chain_A_domain_3_l50_s4779_i_pae.png to ./out/bindcraft/2412250846/Trajectory/Plots/6aru_final_chain_A_domain_3_l50_s4779_i_pae.png\n",
      "Downloaded 2412250846/Trajectory/Plots/6aru_final_chain_A_domain_3_l50_s4779_i_ptm.png to ./out/bindcraft/2412250846/Trajectory/Plots/6aru_final_chain_A_domain_3_l50_s4779_i_ptm.png\n",
      "Downloaded 2412250846/Trajectory/Plots/6aru_final_chain_A_domain_3_l50_s4779_loss.png to ./out/bindcraft/2412250846/Trajectory/Plots/6aru_final_chain_A_domain_3_l50_s4779_loss.png\n",
      "Downloaded 2412250846/Trajectory/Plots/6aru_final_chain_A_domain_3_l50_s4779_pae.png to ./out/bindcraft/2412250846/Trajectory/Plots/6aru_final_chain_A_domain_3_l50_s4779_pae.png\n",
      "Downloaded 2412250846/Trajectory/Plots/6aru_final_chain_A_domain_3_l50_s4779_plddt.png to ./out/bindcraft/2412250846/Trajectory/Plots/6aru_final_chain_A_domain_3_l50_s4779_plddt.png\n",
      "Downloaded 2412250846/Trajectory/Plots/6aru_final_chain_A_domain_3_l50_s4779_ptm.png to ./out/bindcraft/2412250846/Trajectory/Plots/6aru_final_chain_A_domain_3_l50_s4779_ptm.png\n",
      "Downloaded 2412250846/Trajectory/Plots/6aru_final_chain_A_domain_3_l50_s484562_con.png to ./out/bindcraft/2412250846/Trajectory/Plots/6aru_final_chain_A_domain_3_l50_s484562_con.png\n",
      "Downloaded 2412250846/Trajectory/Plots/6aru_final_chain_A_domain_3_l50_s484562_i_con.png to ./out/bindcraft/2412250846/Trajectory/Plots/6aru_final_chain_A_domain_3_l50_s484562_i_con.png\n",
      "Downloaded 2412250846/Trajectory/Plots/6aru_final_chain_A_domain_3_l50_s484562_i_pae.png to ./out/bindcraft/2412250846/Trajectory/Plots/6aru_final_chain_A_domain_3_l50_s484562_i_pae.png\n",
      "Downloaded 2412250846/Trajectory/Plots/6aru_final_chain_A_domain_3_l50_s484562_i_ptm.png to ./out/bindcraft/2412250846/Trajectory/Plots/6aru_final_chain_A_domain_3_l50_s484562_i_ptm.png\n",
      "Downloaded 2412250846/Trajectory/Plots/6aru_final_chain_A_domain_3_l50_s484562_loss.png to ./out/bindcraft/2412250846/Trajectory/Plots/6aru_final_chain_A_domain_3_l50_s484562_loss.png\n",
      "Downloaded 2412250846/Trajectory/Plots/6aru_final_chain_A_domain_3_l50_s484562_pae.png to ./out/bindcraft/2412250846/Trajectory/Plots/6aru_final_chain_A_domain_3_l50_s484562_pae.png\n",
      "Downloaded 2412250846/Trajectory/Plots/6aru_final_chain_A_domain_3_l50_s484562_plddt.png to ./out/bindcraft/2412250846/Trajectory/Plots/6aru_final_chain_A_domain_3_l50_s484562_plddt.png\n",
      "Downloaded 2412250846/Trajectory/Plots/6aru_final_chain_A_domain_3_l50_s484562_ptm.png to ./out/bindcraft/2412250846/Trajectory/Plots/6aru_final_chain_A_domain_3_l50_s484562_ptm.png\n",
      "Downloaded 2412250846/Trajectory/Plots/6aru_final_chain_A_domain_3_l50_s533457_con.png to ./out/bindcraft/2412250846/Trajectory/Plots/6aru_final_chain_A_domain_3_l50_s533457_con.png\n",
      "Downloaded 2412250846/Trajectory/Plots/6aru_final_chain_A_domain_3_l50_s533457_i_con.png to ./out/bindcraft/2412250846/Trajectory/Plots/6aru_final_chain_A_domain_3_l50_s533457_i_con.png\n",
      "Downloaded 2412250846/Trajectory/Plots/6aru_final_chain_A_domain_3_l50_s533457_i_pae.png to ./out/bindcraft/2412250846/Trajectory/Plots/6aru_final_chain_A_domain_3_l50_s533457_i_pae.png\n",
      "Downloaded 2412250846/Trajectory/Plots/6aru_final_chain_A_domain_3_l50_s533457_i_ptm.png to ./out/bindcraft/2412250846/Trajectory/Plots/6aru_final_chain_A_domain_3_l50_s533457_i_ptm.png\n",
      "Downloaded 2412250846/Trajectory/Plots/6aru_final_chain_A_domain_3_l50_s533457_loss.png to ./out/bindcraft/2412250846/Trajectory/Plots/6aru_final_chain_A_domain_3_l50_s533457_loss.png\n",
      "Downloaded 2412250846/Trajectory/Plots/6aru_final_chain_A_domain_3_l50_s533457_pae.png to ./out/bindcraft/2412250846/Trajectory/Plots/6aru_final_chain_A_domain_3_l50_s533457_pae.png\n",
      "Downloaded 2412250846/Trajectory/Plots/6aru_final_chain_A_domain_3_l50_s533457_plddt.png to ./out/bindcraft/2412250846/Trajectory/Plots/6aru_final_chain_A_domain_3_l50_s533457_plddt.png\n",
      "Downloaded 2412250846/Trajectory/Plots/6aru_final_chain_A_domain_3_l50_s533457_ptm.png to ./out/bindcraft/2412250846/Trajectory/Plots/6aru_final_chain_A_domain_3_l50_s533457_ptm.png\n",
      "Downloaded 2412250846/Trajectory/Plots/6aru_final_chain_A_domain_3_l50_s562369_con.png to ./out/bindcraft/2412250846/Trajectory/Plots/6aru_final_chain_A_domain_3_l50_s562369_con.png\n",
      "Downloaded 2412250846/Trajectory/Plots/6aru_final_chain_A_domain_3_l50_s562369_i_con.png to ./out/bindcraft/2412250846/Trajectory/Plots/6aru_final_chain_A_domain_3_l50_s562369_i_con.png\n",
      "Downloaded 2412250846/Trajectory/Plots/6aru_final_chain_A_domain_3_l50_s562369_i_pae.png to ./out/bindcraft/2412250846/Trajectory/Plots/6aru_final_chain_A_domain_3_l50_s562369_i_pae.png\n",
      "Downloaded 2412250846/Trajectory/Plots/6aru_final_chain_A_domain_3_l50_s562369_i_ptm.png to ./out/bindcraft/2412250846/Trajectory/Plots/6aru_final_chain_A_domain_3_l50_s562369_i_ptm.png\n",
      "Downloaded 2412250846/Trajectory/Plots/6aru_final_chain_A_domain_3_l50_s562369_loss.png to ./out/bindcraft/2412250846/Trajectory/Plots/6aru_final_chain_A_domain_3_l50_s562369_loss.png\n",
      "Downloaded 2412250846/Trajectory/Plots/6aru_final_chain_A_domain_3_l50_s562369_pae.png to ./out/bindcraft/2412250846/Trajectory/Plots/6aru_final_chain_A_domain_3_l50_s562369_pae.png\n",
      "Downloaded 2412250846/Trajectory/Plots/6aru_final_chain_A_domain_3_l50_s562369_plddt.png to ./out/bindcraft/2412250846/Trajectory/Plots/6aru_final_chain_A_domain_3_l50_s562369_plddt.png\n",
      "Downloaded 2412250846/Trajectory/Plots/6aru_final_chain_A_domain_3_l50_s562369_ptm.png to ./out/bindcraft/2412250846/Trajectory/Plots/6aru_final_chain_A_domain_3_l50_s562369_ptm.png\n",
      "Downloaded 2412250846/Trajectory/Plots/6aru_final_chain_A_domain_3_l50_s573464_con.png to ./out/bindcraft/2412250846/Trajectory/Plots/6aru_final_chain_A_domain_3_l50_s573464_con.png\n",
      "Downloaded 2412250846/Trajectory/Plots/6aru_final_chain_A_domain_3_l50_s573464_i_con.png to ./out/bindcraft/2412250846/Trajectory/Plots/6aru_final_chain_A_domain_3_l50_s573464_i_con.png\n",
      "Downloaded 2412250846/Trajectory/Plots/6aru_final_chain_A_domain_3_l50_s573464_i_pae.png to ./out/bindcraft/2412250846/Trajectory/Plots/6aru_final_chain_A_domain_3_l50_s573464_i_pae.png\n",
      "Downloaded 2412250846/Trajectory/Plots/6aru_final_chain_A_domain_3_l50_s573464_i_ptm.png to ./out/bindcraft/2412250846/Trajectory/Plots/6aru_final_chain_A_domain_3_l50_s573464_i_ptm.png\n",
      "Downloaded 2412250846/Trajectory/Plots/6aru_final_chain_A_domain_3_l50_s573464_loss.png to ./out/bindcraft/2412250846/Trajectory/Plots/6aru_final_chain_A_domain_3_l50_s573464_loss.png\n",
      "Downloaded 2412250846/Trajectory/Plots/6aru_final_chain_A_domain_3_l50_s573464_pae.png to ./out/bindcraft/2412250846/Trajectory/Plots/6aru_final_chain_A_domain_3_l50_s573464_pae.png\n",
      "Downloaded 2412250846/Trajectory/Plots/6aru_final_chain_A_domain_3_l50_s573464_plddt.png to ./out/bindcraft/2412250846/Trajectory/Plots/6aru_final_chain_A_domain_3_l50_s573464_plddt.png\n",
      "Downloaded 2412250846/Trajectory/Plots/6aru_final_chain_A_domain_3_l50_s573464_ptm.png to ./out/bindcraft/2412250846/Trajectory/Plots/6aru_final_chain_A_domain_3_l50_s573464_ptm.png\n",
      "Downloaded 2412250846/Trajectory/Plots/6aru_final_chain_A_domain_3_l50_s611221_con.png to ./out/bindcraft/2412250846/Trajectory/Plots/6aru_final_chain_A_domain_3_l50_s611221_con.png\n",
      "Downloaded 2412250846/Trajectory/Plots/6aru_final_chain_A_domain_3_l50_s611221_i_con.png to ./out/bindcraft/2412250846/Trajectory/Plots/6aru_final_chain_A_domain_3_l50_s611221_i_con.png\n",
      "Downloaded 2412250846/Trajectory/Plots/6aru_final_chain_A_domain_3_l50_s611221_i_pae.png to ./out/bindcraft/2412250846/Trajectory/Plots/6aru_final_chain_A_domain_3_l50_s611221_i_pae.png\n",
      "Downloaded 2412250846/Trajectory/Plots/6aru_final_chain_A_domain_3_l50_s611221_i_ptm.png to ./out/bindcraft/2412250846/Trajectory/Plots/6aru_final_chain_A_domain_3_l50_s611221_i_ptm.png\n",
      "Downloaded 2412250846/Trajectory/Plots/6aru_final_chain_A_domain_3_l50_s611221_loss.png to ./out/bindcraft/2412250846/Trajectory/Plots/6aru_final_chain_A_domain_3_l50_s611221_loss.png\n",
      "Downloaded 2412250846/Trajectory/Plots/6aru_final_chain_A_domain_3_l50_s611221_pae.png to ./out/bindcraft/2412250846/Trajectory/Plots/6aru_final_chain_A_domain_3_l50_s611221_pae.png\n",
      "Downloaded 2412250846/Trajectory/Plots/6aru_final_chain_A_domain_3_l50_s611221_plddt.png to ./out/bindcraft/2412250846/Trajectory/Plots/6aru_final_chain_A_domain_3_l50_s611221_plddt.png\n",
      "Downloaded 2412250846/Trajectory/Plots/6aru_final_chain_A_domain_3_l50_s611221_ptm.png to ./out/bindcraft/2412250846/Trajectory/Plots/6aru_final_chain_A_domain_3_l50_s611221_ptm.png\n",
      "Downloaded 2412250846/Trajectory/Plots/6aru_final_chain_A_domain_3_l50_s708377_con.png to ./out/bindcraft/2412250846/Trajectory/Plots/6aru_final_chain_A_domain_3_l50_s708377_con.png\n",
      "Downloaded 2412250846/Trajectory/Plots/6aru_final_chain_A_domain_3_l50_s708377_i_con.png to ./out/bindcraft/2412250846/Trajectory/Plots/6aru_final_chain_A_domain_3_l50_s708377_i_con.png\n",
      "Downloaded 2412250846/Trajectory/Plots/6aru_final_chain_A_domain_3_l50_s708377_i_pae.png to ./out/bindcraft/2412250846/Trajectory/Plots/6aru_final_chain_A_domain_3_l50_s708377_i_pae.png\n",
      "Downloaded 2412250846/Trajectory/Plots/6aru_final_chain_A_domain_3_l50_s708377_i_ptm.png to ./out/bindcraft/2412250846/Trajectory/Plots/6aru_final_chain_A_domain_3_l50_s708377_i_ptm.png\n",
      "Downloaded 2412250846/Trajectory/Plots/6aru_final_chain_A_domain_3_l50_s708377_loss.png to ./out/bindcraft/2412250846/Trajectory/Plots/6aru_final_chain_A_domain_3_l50_s708377_loss.png\n",
      "Downloaded 2412250846/Trajectory/Plots/6aru_final_chain_A_domain_3_l50_s708377_pae.png to ./out/bindcraft/2412250846/Trajectory/Plots/6aru_final_chain_A_domain_3_l50_s708377_pae.png\n",
      "Downloaded 2412250846/Trajectory/Plots/6aru_final_chain_A_domain_3_l50_s708377_plddt.png to ./out/bindcraft/2412250846/Trajectory/Plots/6aru_final_chain_A_domain_3_l50_s708377_plddt.png\n",
      "Downloaded 2412250846/Trajectory/Plots/6aru_final_chain_A_domain_3_l50_s708377_ptm.png to ./out/bindcraft/2412250846/Trajectory/Plots/6aru_final_chain_A_domain_3_l50_s708377_ptm.png\n",
      "Downloaded 2412250846/Trajectory/Plots/6aru_final_chain_A_domain_3_l50_s724583_con.png to ./out/bindcraft/2412250846/Trajectory/Plots/6aru_final_chain_A_domain_3_l50_s724583_con.png\n",
      "Downloaded 2412250846/Trajectory/Plots/6aru_final_chain_A_domain_3_l50_s724583_i_con.png to ./out/bindcraft/2412250846/Trajectory/Plots/6aru_final_chain_A_domain_3_l50_s724583_i_con.png\n",
      "Downloaded 2412250846/Trajectory/Plots/6aru_final_chain_A_domain_3_l50_s724583_i_pae.png to ./out/bindcraft/2412250846/Trajectory/Plots/6aru_final_chain_A_domain_3_l50_s724583_i_pae.png\n",
      "Downloaded 2412250846/Trajectory/Plots/6aru_final_chain_A_domain_3_l50_s724583_i_ptm.png to ./out/bindcraft/2412250846/Trajectory/Plots/6aru_final_chain_A_domain_3_l50_s724583_i_ptm.png\n",
      "Downloaded 2412250846/Trajectory/Plots/6aru_final_chain_A_domain_3_l50_s724583_loss.png to ./out/bindcraft/2412250846/Trajectory/Plots/6aru_final_chain_A_domain_3_l50_s724583_loss.png\n",
      "Downloaded 2412250846/Trajectory/Plots/6aru_final_chain_A_domain_3_l50_s724583_pae.png to ./out/bindcraft/2412250846/Trajectory/Plots/6aru_final_chain_A_domain_3_l50_s724583_pae.png\n",
      "Downloaded 2412250846/Trajectory/Plots/6aru_final_chain_A_domain_3_l50_s724583_plddt.png to ./out/bindcraft/2412250846/Trajectory/Plots/6aru_final_chain_A_domain_3_l50_s724583_plddt.png\n",
      "Downloaded 2412250846/Trajectory/Plots/6aru_final_chain_A_domain_3_l50_s724583_ptm.png to ./out/bindcraft/2412250846/Trajectory/Plots/6aru_final_chain_A_domain_3_l50_s724583_ptm.png\n",
      "Downloaded 2412250846/Trajectory/Plots/6aru_final_chain_A_domain_3_l50_s740078_con.png to ./out/bindcraft/2412250846/Trajectory/Plots/6aru_final_chain_A_domain_3_l50_s740078_con.png\n",
      "Downloaded 2412250846/Trajectory/Plots/6aru_final_chain_A_domain_3_l50_s740078_i_con.png to ./out/bindcraft/2412250846/Trajectory/Plots/6aru_final_chain_A_domain_3_l50_s740078_i_con.png\n",
      "Downloaded 2412250846/Trajectory/Plots/6aru_final_chain_A_domain_3_l50_s740078_i_pae.png to ./out/bindcraft/2412250846/Trajectory/Plots/6aru_final_chain_A_domain_3_l50_s740078_i_pae.png\n",
      "Downloaded 2412250846/Trajectory/Plots/6aru_final_chain_A_domain_3_l50_s740078_i_ptm.png to ./out/bindcraft/2412250846/Trajectory/Plots/6aru_final_chain_A_domain_3_l50_s740078_i_ptm.png\n",
      "Downloaded 2412250846/Trajectory/Plots/6aru_final_chain_A_domain_3_l50_s740078_loss.png to ./out/bindcraft/2412250846/Trajectory/Plots/6aru_final_chain_A_domain_3_l50_s740078_loss.png\n",
      "Downloaded 2412250846/Trajectory/Plots/6aru_final_chain_A_domain_3_l50_s740078_pae.png to ./out/bindcraft/2412250846/Trajectory/Plots/6aru_final_chain_A_domain_3_l50_s740078_pae.png\n",
      "Downloaded 2412250846/Trajectory/Plots/6aru_final_chain_A_domain_3_l50_s740078_plddt.png to ./out/bindcraft/2412250846/Trajectory/Plots/6aru_final_chain_A_domain_3_l50_s740078_plddt.png\n",
      "Downloaded 2412250846/Trajectory/Plots/6aru_final_chain_A_domain_3_l50_s740078_ptm.png to ./out/bindcraft/2412250846/Trajectory/Plots/6aru_final_chain_A_domain_3_l50_s740078_ptm.png\n",
      "Downloaded 2412250846/Trajectory/Plots/6aru_final_chain_A_domain_3_l50_s785094_con.png to ./out/bindcraft/2412250846/Trajectory/Plots/6aru_final_chain_A_domain_3_l50_s785094_con.png\n",
      "Downloaded 2412250846/Trajectory/Plots/6aru_final_chain_A_domain_3_l50_s785094_i_con.png to ./out/bindcraft/2412250846/Trajectory/Plots/6aru_final_chain_A_domain_3_l50_s785094_i_con.png\n",
      "Downloaded 2412250846/Trajectory/Plots/6aru_final_chain_A_domain_3_l50_s785094_i_pae.png to ./out/bindcraft/2412250846/Trajectory/Plots/6aru_final_chain_A_domain_3_l50_s785094_i_pae.png\n",
      "Downloaded 2412250846/Trajectory/Plots/6aru_final_chain_A_domain_3_l50_s785094_i_ptm.png to ./out/bindcraft/2412250846/Trajectory/Plots/6aru_final_chain_A_domain_3_l50_s785094_i_ptm.png\n",
      "Downloaded 2412250846/Trajectory/Plots/6aru_final_chain_A_domain_3_l50_s785094_loss.png to ./out/bindcraft/2412250846/Trajectory/Plots/6aru_final_chain_A_domain_3_l50_s785094_loss.png\n",
      "Downloaded 2412250846/Trajectory/Plots/6aru_final_chain_A_domain_3_l50_s785094_pae.png to ./out/bindcraft/2412250846/Trajectory/Plots/6aru_final_chain_A_domain_3_l50_s785094_pae.png\n",
      "Downloaded 2412250846/Trajectory/Plots/6aru_final_chain_A_domain_3_l50_s785094_plddt.png to ./out/bindcraft/2412250846/Trajectory/Plots/6aru_final_chain_A_domain_3_l50_s785094_plddt.png\n",
      "Downloaded 2412250846/Trajectory/Plots/6aru_final_chain_A_domain_3_l50_s785094_ptm.png to ./out/bindcraft/2412250846/Trajectory/Plots/6aru_final_chain_A_domain_3_l50_s785094_ptm.png\n",
      "Downloaded 2412250846/Trajectory/Plots/6aru_final_chain_A_domain_3_l50_s893314_con.png to ./out/bindcraft/2412250846/Trajectory/Plots/6aru_final_chain_A_domain_3_l50_s893314_con.png\n",
      "Downloaded 2412250846/Trajectory/Plots/6aru_final_chain_A_domain_3_l50_s893314_i_con.png to ./out/bindcraft/2412250846/Trajectory/Plots/6aru_final_chain_A_domain_3_l50_s893314_i_con.png\n",
      "Downloaded 2412250846/Trajectory/Plots/6aru_final_chain_A_domain_3_l50_s893314_i_pae.png to ./out/bindcraft/2412250846/Trajectory/Plots/6aru_final_chain_A_domain_3_l50_s893314_i_pae.png\n",
      "Downloaded 2412250846/Trajectory/Plots/6aru_final_chain_A_domain_3_l50_s893314_i_ptm.png to ./out/bindcraft/2412250846/Trajectory/Plots/6aru_final_chain_A_domain_3_l50_s893314_i_ptm.png\n",
      "Downloaded 2412250846/Trajectory/Plots/6aru_final_chain_A_domain_3_l50_s893314_loss.png to ./out/bindcraft/2412250846/Trajectory/Plots/6aru_final_chain_A_domain_3_l50_s893314_loss.png\n",
      "Downloaded 2412250846/Trajectory/Plots/6aru_final_chain_A_domain_3_l50_s893314_pae.png to ./out/bindcraft/2412250846/Trajectory/Plots/6aru_final_chain_A_domain_3_l50_s893314_pae.png\n",
      "Downloaded 2412250846/Trajectory/Plots/6aru_final_chain_A_domain_3_l50_s893314_plddt.png to ./out/bindcraft/2412250846/Trajectory/Plots/6aru_final_chain_A_domain_3_l50_s893314_plddt.png\n",
      "Downloaded 2412250846/Trajectory/Plots/6aru_final_chain_A_domain_3_l50_s893314_ptm.png to ./out/bindcraft/2412250846/Trajectory/Plots/6aru_final_chain_A_domain_3_l50_s893314_ptm.png\n",
      "Downloaded 2412250846/Trajectory/Plots/6aru_final_chain_A_domain_3_l50_s952853_con.png to ./out/bindcraft/2412250846/Trajectory/Plots/6aru_final_chain_A_domain_3_l50_s952853_con.png\n",
      "Downloaded 2412250846/Trajectory/Plots/6aru_final_chain_A_domain_3_l50_s952853_i_con.png to ./out/bindcraft/2412250846/Trajectory/Plots/6aru_final_chain_A_domain_3_l50_s952853_i_con.png\n",
      "Downloaded 2412250846/Trajectory/Plots/6aru_final_chain_A_domain_3_l50_s952853_i_pae.png to ./out/bindcraft/2412250846/Trajectory/Plots/6aru_final_chain_A_domain_3_l50_s952853_i_pae.png\n",
      "Downloaded 2412250846/Trajectory/Plots/6aru_final_chain_A_domain_3_l50_s952853_i_ptm.png to ./out/bindcraft/2412250846/Trajectory/Plots/6aru_final_chain_A_domain_3_l50_s952853_i_ptm.png\n",
      "Downloaded 2412250846/Trajectory/Plots/6aru_final_chain_A_domain_3_l50_s952853_loss.png to ./out/bindcraft/2412250846/Trajectory/Plots/6aru_final_chain_A_domain_3_l50_s952853_loss.png\n",
      "Downloaded 2412250846/Trajectory/Plots/6aru_final_chain_A_domain_3_l50_s952853_pae.png to ./out/bindcraft/2412250846/Trajectory/Plots/6aru_final_chain_A_domain_3_l50_s952853_pae.png\n",
      "Downloaded 2412250846/Trajectory/Plots/6aru_final_chain_A_domain_3_l50_s952853_plddt.png to ./out/bindcraft/2412250846/Trajectory/Plots/6aru_final_chain_A_domain_3_l50_s952853_plddt.png\n",
      "Downloaded 2412250846/Trajectory/Plots/6aru_final_chain_A_domain_3_l50_s952853_ptm.png to ./out/bindcraft/2412250846/Trajectory/Plots/6aru_final_chain_A_domain_3_l50_s952853_ptm.png\n",
      "Downloaded 2412250846/Trajectory/Plots/6aru_final_chain_A_domain_3_l50_s986516_con.png to ./out/bindcraft/2412250846/Trajectory/Plots/6aru_final_chain_A_domain_3_l50_s986516_con.png\n",
      "Downloaded 2412250846/Trajectory/Plots/6aru_final_chain_A_domain_3_l50_s986516_i_con.png to ./out/bindcraft/2412250846/Trajectory/Plots/6aru_final_chain_A_domain_3_l50_s986516_i_con.png\n",
      "Downloaded 2412250846/Trajectory/Plots/6aru_final_chain_A_domain_3_l50_s986516_i_pae.png to ./out/bindcraft/2412250846/Trajectory/Plots/6aru_final_chain_A_domain_3_l50_s986516_i_pae.png\n",
      "Downloaded 2412250846/Trajectory/Plots/6aru_final_chain_A_domain_3_l50_s986516_i_ptm.png to ./out/bindcraft/2412250846/Trajectory/Plots/6aru_final_chain_A_domain_3_l50_s986516_i_ptm.png\n",
      "Downloaded 2412250846/Trajectory/Plots/6aru_final_chain_A_domain_3_l50_s986516_loss.png to ./out/bindcraft/2412250846/Trajectory/Plots/6aru_final_chain_A_domain_3_l50_s986516_loss.png\n",
      "Downloaded 2412250846/Trajectory/Plots/6aru_final_chain_A_domain_3_l50_s986516_pae.png to ./out/bindcraft/2412250846/Trajectory/Plots/6aru_final_chain_A_domain_3_l50_s986516_pae.png\n",
      "Downloaded 2412250846/Trajectory/Plots/6aru_final_chain_A_domain_3_l50_s986516_plddt.png to ./out/bindcraft/2412250846/Trajectory/Plots/6aru_final_chain_A_domain_3_l50_s986516_plddt.png\n",
      "Downloaded 2412250846/Trajectory/Plots/6aru_final_chain_A_domain_3_l50_s986516_ptm.png to ./out/bindcraft/2412250846/Trajectory/Plots/6aru_final_chain_A_domain_3_l50_s986516_ptm.png\n",
      "Downloaded 2412250846/Trajectory/Relaxed/6aru_final_chain_A_domain_3_l50_s740078.pdb to ./out/bindcraft/2412250846/Trajectory/Relaxed/6aru_final_chain_A_domain_3_l50_s740078.pdb\n",
      "Downloaded 2412250846/failure_csv.csv to ./out/bindcraft/2412250846/failure_csv.csv\n",
      "Downloaded 2412250846/final_design_stats.csv to ./out/bindcraft/2412250846/final_design_stats.csv\n",
      "Downloaded 2412250846/mpnn_design_stats.csv to ./out/bindcraft/2412250846/mpnn_design_stats.csv\n",
      "Downloaded 2412250846/trajectory_stats.csv to ./out/bindcraft/2412250846/trajectory_stats.csv\n"
     ]
    }
   ],
   "source": [
    "import boto3\n",
    "import os\n",
    "\n",
    "def download_s3_folder(bucket_name, s3_folder, local_dir):\n",
    "    s3_client = boto3.client('s3')\n",
    "    \n",
    "    # Ensure the local directory exists\n",
    "    if not os.path.exists(local_dir):\n",
    "        os.makedirs(local_dir)\n",
    "    \n",
    "    # List objects in the specified S3 folder\n",
    "    paginator = s3_client.get_paginator('list_objects_v2')\n",
    "    pages = paginator.paginate(Bucket=bucket_name, Prefix=s3_folder)\n",
    "    \n",
    "    for page in pages:\n",
    "        if 'Contents' in page:\n",
    "            for obj in page['Contents']:\n",
    "                s3_key = obj['Key']\n",
    "                local_file_path = os.path.join(local_dir, os.path.relpath(s3_key, s3_folder))\n",
    "                \n",
    "                # Ensure the local directory exists\n",
    "                local_file_dir = os.path.dirname(local_file_path)\n",
    "                if not os.path.exists(local_file_dir):\n",
    "                    os.makedirs(local_file_dir)\n",
    "                \n",
    "                # Download the file\n",
    "                s3_client.download_file(bucket_name, s3_key, local_file_path)\n",
    "                print(f\"Downloaded {s3_key} to {local_file_path}\")\n",
    "\n",
    "# Example usage\n",
    "bucket_name = 'bindcraft'\n",
    "s3_folder = '2412250846'\n",
    "local_dir = f'./out/bindcraft/{s3_folder}'\n",
    "\n",
    "download_s3_folder(bucket_name, s3_folder, local_dir)"
   ]
  },
  {
   "cell_type": "markdown",
   "metadata": {},
   "source": []
  },
  {
   "cell_type": "code",
   "execution_count": 5,
   "metadata": {},
   "outputs": [],
   "source": [
    "from Bio.PDB import PDBParser\n",
    "import numpy as np\n",
    "\n",
    "def parse_pdb_to_target_protein(pdb_file):\n",
    "    parser = PDBParser(QUIET=True)\n",
    "    structure = parser.get_structure('target', pdb_file)\n",
    "    \n",
    "    # Initialize list to hold CA atom positions\n",
    "    ca_positions = []\n",
    "\n",
    "    for model in structure:\n",
    "        for chain in model:\n",
    "            for residue in chain:\n",
    "                if 'CA' in residue:\n",
    "                    ca = residue['CA']\n",
    "                    ca_positions.append(ca.get_coord())\n",
    "    \n",
    "    # Convert to numpy array\n",
    "    ca_positions = np.array(ca_positions)\n",
    "    \n",
    "    # Create target_protein dictionary\n",
    "    target_protein = {\n",
    "        \"final_atom_positions\": ca_positions\n",
    "    }\n",
    "    \n",
    "    return target_protein\n",
    "\n",
    "# Example usage\n",
    "# pdb_file = 'path/to/your/file.pdb'\n",
    "# target_protein = parse_pdb_to_target_protein(pdb_file)"
   ]
  },
  {
   "cell_type": "code",
   "execution_count": 10,
   "metadata": {},
   "outputs": [],
   "source": [
    "# Example usage\n",
    "pdb_file = 'target_A.pdb'\n",
    "target_protein = parse_pdb_to_target_protein(pdb_file)"
   ]
  },
  {
   "cell_type": "code",
   "execution_count": 11,
   "metadata": {},
   "outputs": [
    {
     "data": {
      "text/plain": [
       "{'final_atom_positions': array([[-1.5953e+01, -3.6500e+01, -1.2000e+01],\n",
       "        [-1.6078e+01, -3.4625e+01, -8.5160e+00],\n",
       "        [-1.6375e+01, -3.0703e+01, -9.1410e+00],\n",
       "        [-1.3336e+01, -2.8500e+01, -8.0470e+00],\n",
       "        [-1.5703e+01, -2.7156e+01, -5.5390e+00],\n",
       "        [-1.7750e+01, -2.8219e+01, -2.4960e+00],\n",
       "        [-1.9891e+01, -2.6344e+01, -3.2000e-02],\n",
       "        [-1.7812e+01, -2.4531e+01,  2.4940e+00],\n",
       "        [-1.7609e+01, -2.6281e+01,  5.8480e+00],\n",
       "        [-1.9172e+01, -2.4578e+01,  8.8670e+00],\n",
       "        [-1.5875e+01, -2.3250e+01,  1.0008e+01],\n",
       "        [-1.5633e+01, -2.1219e+01,  6.7580e+00],\n",
       "        [-1.9266e+01, -2.0141e+01,  6.5780e+00],\n",
       "        [-1.8344e+01, -1.6484e+01,  7.1560e+00],\n",
       "        [-1.5062e+01, -1.6562e+01,  5.3240e+00],\n",
       "        [-1.6141e+01, -1.4383e+01,  2.4140e+00],\n",
       "        [-1.7250e+01, -1.0773e+01,  3.2130e+00],\n",
       "        [-1.8859e+01, -9.6480e+00, -7.8000e-02],\n",
       "        [-1.9266e+01, -1.2953e+01, -1.8700e+00],\n",
       "        [-2.0016e+01, -1.6641e+01, -1.6490e+00],\n",
       "        [-1.7781e+01, -1.9203e+01, -2.0000e-02],\n",
       "        [-1.6719e+01, -2.2328e+01, -1.8420e+00],\n",
       "        [-1.4406e+01, -2.5031e+01, -7.3100e-01],\n",
       "        [-1.1562e+01, -2.6172e+01, -3.1090e+00],\n",
       "        [-1.1562e+01, -2.9875e+01, -2.4220e+00],\n",
       "        [-8.1800e+00, -3.0734e+01, -3.9590e+00],\n",
       "        [-6.4570e+00, -2.7922e+01, -2.1580e+00],\n",
       "        [-8.3910e+00, -2.8281e+01,  1.0440e+00],\n",
       "        [-8.7970e+00, -2.4516e+01,  1.2450e+00],\n",
       "        [-1.1727e+01, -2.2062e+01,  1.2570e+00],\n",
       "        [-1.2203e+01, -1.9609e+01, -1.5920e+00],\n",
       "        [-1.4648e+01, -1.6875e+01, -2.5230e+00],\n",
       "        [-1.6766e+01, -1.5844e+01, -5.4490e+00],\n",
       "        [-1.6844e+01, -1.2125e+01, -4.9960e+00],\n",
       "        [-1.9844e+01, -9.9770e+00, -5.5820e+00],\n",
       "        [-1.9641e+01, -7.6800e+00, -8.5940e+00],\n",
       "        [-1.7125e+01, -4.9530e+00, -8.0160e+00],\n",
       "        [-1.5430e+01, -6.5350e+00, -5.0230e+00],\n",
       "        [-1.1852e+01, -7.8750e+00, -4.7850e+00],\n",
       "        [-9.4220e+00, -9.5160e+00, -2.3340e+00],\n",
       "        [-8.8980e+00, -1.2984e+01, -8.4100e-01],\n",
       "        [-1.2109e+01, -1.2594e+01,  1.2050e+00],\n",
       "        [-1.3742e+01, -1.0109e+01, -1.1320e+00],\n",
       "        [-1.3180e+01, -7.3670e+00,  1.4090e+00],\n",
       "        [-1.2344e+01, -4.4770e+00, -9.0600e-01],\n",
       "        [-1.4102e+01, -2.5290e+00, -3.6230e+00],\n",
       "        [-1.2547e+01, -2.5160e+00, -7.0430e+00],\n",
       "        [-1.1688e+01,  1.1200e+00, -7.5040e+00],\n",
       "        [-1.1281e+01,  6.7000e-01, -1.1266e+01],\n",
       "        [-1.4836e+01, -5.5800e-01, -1.1727e+01]], dtype=float32)}"
      ]
     },
     "execution_count": 11,
     "metadata": {},
     "output_type": "execute_result"
    }
   ],
   "source": [
    "target_protein"
   ]
  },
  {
   "cell_type": "code",
   "execution_count": 12,
   "metadata": {},
   "outputs": [
    {
     "data": {
      "text/plain": [
       "(50, 3)"
      ]
     },
     "execution_count": 12,
     "metadata": {},
     "output_type": "execute_result"
    }
   ],
   "source": [
    "target_protein[\"final_atom_positions\"].shape"
   ]
  },
  {
   "cell_type": "code",
   "execution_count": 15,
   "metadata": {},
   "outputs": [
    {
     "data": {
      "text/plain": [
       "(50, 3)"
      ]
     },
     "execution_count": 15,
     "metadata": {},
     "output_type": "execute_result"
    }
   ],
   "source": [
    " # Extract CA atom positions from target protein\n",
    "target_ca = target_protein[\"final_atom_positions\"]\n",
    "target_ca.shape\n"
   ]
  },
  {
   "cell_type": "code",
   "execution_count": null,
   "metadata": {},
   "outputs": [],
   "source": []
  }
 ],
 "metadata": {
  "kernelspec": {
   "display_name": "modal",
   "language": "python",
   "name": "python3"
  },
  "language_info": {
   "codemirror_mode": {
    "name": "ipython",
    "version": 3
   },
   "file_extension": ".py",
   "mimetype": "text/x-python",
   "name": "python",
   "nbconvert_exporter": "python",
   "pygments_lexer": "ipython3",
   "version": "3.11.9"
  }
 },
 "nbformat": 4,
 "nbformat_minor": 2
}
